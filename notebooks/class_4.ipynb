{
 "cells": [
  {
   "cell_type": "code",
   "execution_count": 4,
   "metadata": {},
   "outputs": [
    {
     "data": {
      "text/html": [
       "外媒揭秘<span style=\"color:red\">苹果</span>A13<span style=\"color:red\">芯片</span>：比三星华为<span style=\"color:red\">高通</span><span style=\"color:red\">芯片</span>好在哪"
      ],
      "text/plain": [
       "<IPython.core.display.HTML object>"
      ]
     },
     "metadata": {},
     "output_type": "display_data"
    }
   ],
   "source": [
    "from IPython.core.display import HTML\n",
    "import jieba\n",
    "\n",
    "\n",
    "class Searcher_scan():\n",
    "    def __init__(self, title_file):\n",
    "        with open(title_file, 'r') as f:\n",
    "            titles = f.read()\n",
    "        self.title_list = list(set(titles.split())) ##转换成ji\n",
    "\n",
    "    def word_match(self, words, title):\n",
    "        ifmatch = True\n",
    "        keyword_ = ' '.join(jieba.cut(words))\n",
    "        for word in keyword_.split():\n",
    "            if word != ' ' and word not in title:\n",
    "                ifmatch = False\n",
    "        return ifmatch\n",
    "\n",
    "    def conv_query(self, query):\n",
    "        query_new_parts = []\n",
    "        for part in list(jieba.cut(query)):\n",
    "            if part == '(' or part == ')':\n",
    "                query_new_parts.append(part)\n",
    "            elif part in ('and', 'AND', 'or', 'OR', 'NOT', 'not', ' '):\n",
    "                query_new_parts.append(part.lower())\n",
    "            else:\n",
    "                query_new_parts.append(\"self.word_match('{}',title)\".format(part))\n",
    "        query_new = ''.join(query_new_parts)\n",
    "        return query_new\n",
    "\n",
    "    def highlighter(self, doc, word):\n",
    "        for part in list(jieba.cut(word)):\n",
    "            if part not in ('(', ')', 'and', 'AND', 'or', 'OR', 'NOT', 'not', ' '):\n",
    "                doc = doc.replace(part, '<span style=\"color:red\">{}</span>'.format(part))\n",
    "        return doc\n",
    "\n",
    "    def search(self, query):\n",
    "        query_new = self.conv_query(query)\n",
    "        for title in self.title_list:\n",
    "            if eval(query_new):\n",
    "                display(HTML(self.highlighter(title, query)))\n",
    "\n",
    "\n",
    "query = '苹果 and (芯片 or 高通)'\n",
    "searcher = Searcher_scan('tiles.txt')\n",
    "searcher.search(query)"
   ]
  },
  {
   "cell_type": "code",
   "execution_count": 5,
   "metadata": {},
   "outputs": [
    {
     "data": {
      "text/html": [
       "外媒揭秘<span style=\"color:red\">苹果</span>A13<span style=\"color:red\">芯片</span>：比三星华为<span style=\"color:red\">高通</span><span style=\"color:red\">芯片</span>好在哪"
      ],
      "text/plain": [
       "<IPython.core.display.HTML object>"
      ]
     },
     "metadata": {},
     "output_type": "display_data"
    }
   ],
   "source": [
    "from IPython.core.display import HTML\n",
    "import jieba\n",
    "\n",
    "query = '苹果 and (芯片 or 高通)'\n",
    "searcher = Searcher_scan('tiles.txt')\n",
    "searcher.search(query) \n",
    "\n",
    "with open('tiles.txt', 'r') as f:\n",
    "    titles = f.read()\n",
    "\n",
    "index = dict()    \n",
    "idx = 0\n",
    "title_list = []\n",
    "\n",
    "for title in titles.split():\n",
    "    title_list.append(title)\n",
    "    for term in list(jieba.cut(title)):\n",
    "        if term in index:\n",
    "            index[term].add(idx)\n",
    "        else:\n",
    "            index[term] = set([idx])\n",
    "    idx += 1\n",
    "\n",
    "query = '苹果手机'\n",
    "result = None\n",
    "for term in list(jieba.cut(query)):\n",
    "    if result is None:\n",
    "        result = index[term]\n",
    "    else:\n",
    "        result = result & index[term]\n",
    "for docid in result:\n",
    "    print(title_list[docid])"
   ]
  },
  {
   "cell_type": "code",
   "execution_count": null,
   "metadata": {},
   "outputs": [],
   "source": []
  }
 ],
 "metadata": {
  "kernelspec": {
   "display_name": "Python 3",
   "language": "python",
   "name": "python3"
  },
  "language_info": {
   "codemirror_mode": {
    "name": "ipython",
    "version": 3
   },
   "file_extension": ".py",
   "mimetype": "text/x-python",
   "name": "python",
   "nbconvert_exporter": "python",
   "pygments_lexer": "ipython3",
   "version": "3.7.4"
  }
 },
 "nbformat": 4,
 "nbformat_minor": 4
}
