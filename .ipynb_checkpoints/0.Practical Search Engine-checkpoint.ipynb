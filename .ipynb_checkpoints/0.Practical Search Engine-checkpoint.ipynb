{
 "cells": [
  {
   "cell_type": "markdown",
   "metadata": {},
   "source": [
    "# What is Jupyter notebook, web search, me?"
   ]
  },
  {
   "attachments": {},
   "cell_type": "markdown",
   "metadata": {},
   "source": [
    "![Jupyter Notebooks](images/jupyter_notebooks.png)"
   ]
  },
  {
   "cell_type": "markdown",
   "metadata": {},
   "source": [
    "## 网络搜索\n",
    "- 源于**信息检索(Information Retrieval)**\n",
    "- 解决 **网络** 海量 **非结构化** **超文本** 数据的高效 **检索** 问题"
   ]
  },
  {
   "attachments": {},
   "cell_type": "markdown",
   "metadata": {},
   "source": [
    "![Information Retrieval](images/wiki_ir.png)"
   ]
  },
  {
   "attachments": {},
   "cell_type": "markdown",
   "metadata": {},
   "source": [
    "- 结构化数据\n",
    "  - 如 Oracle、Lotus Notes 以及符合 ODBC 标准的内容，具有表、字段等结构化特性\n",
    "- 半结构化数据\n",
    "  - XML等，具有非统一的标记\n",
    "- 非结构化数据\n",
    "  - 通常指自由文本，以及诸如语音和视频的富媒体内容\n",
    "![Unstructured Information](images/unstructured_info.png)"
   ]
  },
  {
   "attachments": {},
   "cell_type": "markdown",
   "metadata": {},
   "source": [
    "![Hyper Text](images/wiki_hyper_link.png)\n",
    "![Hyper Text](images/hyper_text.png)"
   ]
  },
  {
   "attachments": {},
   "cell_type": "markdown",
   "metadata": {},
   "source": [
    "### AI·机器学习·深度学习\n",
    "![AI vs. ML vs. DL](images/ai_ml_dl.png)"
   ]
  },
  {
   "attachments": {},
   "cell_type": "markdown",
   "metadata": {},
   "source": [
    "### 网络搜索与AI/机器学习/深度学习的关系\n",
    "![AI vs. ML vs. DL vs. Web Search](images/ai_ml_dl_nlp.png)"
   ]
  },
  {
   "cell_type": "markdown",
   "metadata": {},
   "source": [
    "### 网络搜索分类\n",
    "- 检索（Retrieval）\n",
    "  - 针对特定(具体)需求查找符合的结果\n",
    "- 过滤（Filter）\n",
    "  - 根据预设条件进行信息的获取、隔离或封堵\n",
    "- 推荐（Recommendation）\n",
    "  - 根据潜在（非具体）需求查找可能符合要求的结果"
   ]
  },
  {
   "cell_type": "markdown",
   "metadata": {},
   "source": [
    "### “How Search Works”\n",
    "By Matt Cutts\n",
    "- Google资深的软件工程师；\n",
    "- Google的Webspam团队的老大；\n",
    "- Google的SafeSearch功能（过滤成人内容）就是Matt写的\n",
    "- Blog：http://www.mattcutts.com/blog/"
   ]
  },
  {
   "attachments": {},
   "cell_type": "markdown",
   "metadata": {},
   "source": [
    "### 网络搜索引擎结构\n",
    "\n",
    "![Search Engine](images/search_engine.png)"
   ]
  },
  {
   "cell_type": "markdown",
   "metadata": {},
   "source": [
    "### 网络搜索关键技术\n",
    "- 数据采集（爬虫系统Crawler / 网络蜘蛛Spider）\n",
    "- 索引构建（Indexing）\n",
    "- 相关排序（Ranking）\n",
    "- 网络分析 (Network Analyzing)"
   ]
  },
  {
   "attachments": {},
   "cell_type": "markdown",
   "metadata": {},
   "source": [
    "### 排序：选择的艺术\n",
    "![Ranking](images/ranking.png)"
   ]
  },
  {
   "attachments": {},
   "cell_type": "markdown",
   "metadata": {},
   "source": [
    "### 开源搜索引擎框架\n",
    "![Open Sourced Search Engines](images/os_se.png)"
   ]
  },
  {
   "attachments": {},
   "cell_type": "markdown",
   "metadata": {},
   "source": [
    "### Elasticsearch\n",
    "![ElasticSearch](images/es.png)"
   ]
  },
  {
   "cell_type": "markdown",
   "metadata": {},
   "source": [
    "### 前沿技术跟踪来源\n",
    "- ACM SIGIR（Special Interest Group on Information Retrieval）\n",
    "- TREC（The Text REtrieval Conference）\n",
    "- ACM RecSys (Recommender System)"
   ]
  },
  {
   "cell_type": "markdown",
   "metadata": {},
   "source": [
    "### 学习建议\n",
    "- 浅尝览全貌，读书生结构，\n",
    "- 实践知关键，借鉴避浅滩，\n",
    "- 细节慢琢磨，勤奋始得道"
   ]
  },
  {
   "attachments": {},
   "cell_type": "markdown",
   "metadata": {},
   "source": [
    "### 关于编程能力\n",
    "![Learning Python](images/learning_python.png)"
   ]
  },
  {
   "attachments": {},
   "cell_type": "markdown",
   "metadata": {},
   "source": [
    "### 参考资料\n",
    "![Reference Books](images/books.png)"
   ]
  },
  {
   "cell_type": "markdown",
   "metadata": {},
   "source": [
    "#### 相关信息\n",
    "- 陈光 chenguang@bupt.edu.cn\n",
    "- 北邮模式识别与智能系统实验室(PRIS)\n",
    "- 微博: **@爱可可-爱生活**\n",
    "- 办公：教三-731 \n",
    "- 课程平台(课堂派) www.ketangpai.com  邀请码:**897SRR**"
   ]
  },
  {
   "cell_type": "markdown",
   "metadata": {},
   "source": [
    "### 本节实践目标：\n",
    "- 1、建立Python语言的第一印象\n",
    "- 2、简单实现网页采集和解析\n",
    "- 3、熟悉搜索框架(索引)ElasticSearch"
   ]
  },
  {
   "attachments": {},
   "cell_type": "markdown",
   "metadata": {},
   "source": [
    "#### 环境配置：\n",
    "- Python开发环境(包括jupyter notebooks)：\n",
    "    - Python https://www.python.org/\n",
    "    - Anaconda https://www.anaconda.com/\n",
    "![Anaconda](images/anaconda.png)\n",
    "- ElasticSearch https://www.elastic.co/products/elasticsearch"
   ]
  },
  {
   "cell_type": "code",
   "execution_count": null,
   "metadata": {
    "scrolled": true
   },
   "outputs": [],
   "source": [
    "import requests\n",
    "\n",
    "r = requests.get('http://www.bupt.edu.cn')\n",
    "content = r.text\n",
    "print content"
   ]
  },
  {
   "cell_type": "code",
   "execution_count": null,
   "metadata": {},
   "outputs": [],
   "source": [
    "from bs4 import BeautifulSoup\n",
    "import jieba\n",
    "\n",
    "soup = BeautifulSoup(content, 'lxml')\n",
    "links = soup.find_all('a')\n",
    "# for link in links:\n",
    "#     if 'content.php' in str(link):\n",
    "#         print link\n",
    "section = soup.find('div', {'class': 'wrap_cont' })\n",
    "links = section.find_all('a')\n",
    "for link in links:\n",
    "    title = link.get('title')\n",
    "    link = link.get('href')\n",
    "    print title, link"
   ]
  },
  {
   "cell_type": "code",
   "execution_count": null,
   "metadata": {},
   "outputs": [],
   "source": [
    "for link in links:\n",
    "    title = link.get('title')\n",
    "    link = link.get('href')\n",
    "    print title, link\n",
    "    seg_list = jieba.cut(title)\n",
    "    print(\"/ \".join(seg_list))\n",
    "    print(\"------\")"
   ]
  },
  {
   "cell_type": "code",
   "execution_count": null,
   "metadata": {},
   "outputs": [],
   "source": [
    "texts = [\n",
    "    \"发展中国家兔养殖业\",\n",
    "]"
   ]
  },
  {
   "cell_type": "code",
   "execution_count": null,
   "metadata": {},
   "outputs": [],
   "source": [
    "res = requests.get('http://localhost:9200')\n",
    "print(res.content)"
   ]
  },
  {
   "cell_type": "code",
   "execution_count": null,
   "metadata": {},
   "outputs": [],
   "source": [
    "from elasticsearch import Elasticsearch\n",
    "es = Elasticsearch([{'host': 'localhost', 'port': 9200}])"
   ]
  },
  {
   "cell_type": "code",
   "execution_count": null,
   "metadata": {},
   "outputs": [],
   "source": [
    "es.indices.delete(index='bupt')\n",
    "body = {\n",
    "    \"settings\" : {\n",
    "        \"number_of_shards\" : 1,\n",
    "        \"number_of_replicas\" : 0\n",
    "\n",
    "    },\n",
    "    \"mappings\" : {\n",
    "        \"test\" : {\n",
    "            \"_all\" : { \"enabled\" : False },\n",
    "            \"properties\" : {\n",
    "                \"name\" : { \n",
    "                    \"type\" : \"string\", \n",
    "                    \"analyzer\" : \"jieba_index\", \n",
    "                    \"search_analyzer\" : \"jieba_search\" \n",
    "                }\n",
    "            }\n",
    "        }\n",
    "    }\n",
    "}\n",
    "es.indices.create(index='bupt', body=body)"
   ]
  },
  {
   "cell_type": "code",
   "execution_count": null,
   "metadata": {
    "scrolled": false
   },
   "outputs": [],
   "source": [
    "i = 1\n",
    "for link in links:\n",
    "    title = link.get('title')\n",
    "    link = link.get('href')\n",
    "    print title\n",
    "    entry = {\n",
    "        'title': title,\n",
    "        'url': link,\n",
    "    }\n",
    "    es.index(index='bupt', doc_type='news', id=i, body=entry)\n",
    "    print(\"------\")\n",
    "    i += 1"
   ]
  },
  {
   "cell_type": "code",
   "execution_count": null,
   "metadata": {},
   "outputs": [],
   "source": [
    "es.get(index='bupt', doc_type='news', id=5)"
   ]
  },
  {
   "cell_type": "code",
   "execution_count": null,
   "metadata": {},
   "outputs": [],
   "source": [
    "result = es.search(index=\"bupt\", body={\"query\": {\"match\": {'title':'迎新'}}})\n",
    "for item in result['hits']['hits']:\n",
    "    print item['_source']['title'], item['_source']['url']"
   ]
  },
  {
   "cell_type": "code",
   "execution_count": null,
   "metadata": {},
   "outputs": [],
   "source": []
  }
 ],
 "metadata": {
  "kernelspec": {
   "display_name": "Python 2",
   "language": "python",
   "name": "python2"
  },
  "language_info": {
   "codemirror_mode": {
    "name": "ipython",
    "version": 2
   },
   "file_extension": ".py",
   "mimetype": "text/x-python",
   "name": "python",
   "nbconvert_exporter": "python",
   "pygments_lexer": "ipython2",
   "version": "2.7.13"
  }
 },
 "nbformat": 4,
 "nbformat_minor": 2
}
