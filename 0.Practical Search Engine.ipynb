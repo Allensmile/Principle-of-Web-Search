{
 "cells": [
  {
   "cell_type": "code",
   "execution_count": 1,
   "metadata": {},
   "outputs": [],
   "source": [
    "from IPython.core.interactiveshell import InteractiveShell\n",
    "InteractiveShell.ast_node_interactivity = \"all\""
   ]
  },
  {
   "cell_type": "markdown",
   "metadata": {},
   "source": [
    "# What is Jupyter notebook, web search, me?"
   ]
  },
  {
   "cell_type": "markdown",
   "metadata": {},
   "source": [
    "![Jupyter Notebooks](images/jupyter_notebooks.png)"
   ]
  },
  {
   "cell_type": "markdown",
   "metadata": {},
   "source": [
    "## 网络搜索\n",
    "- 源于**信息检索(Information Retrieval)**\n",
    "- 解决 **网络** 海量 **非结构化** **超文本** 数据的高效 **检索** 问题"
   ]
  },
  {
   "cell_type": "markdown",
   "metadata": {},
   "source": [
    "### 信息检索  \n",
    "```\n",
    "    信息检索（Information Retrieval）是用户进行信息查询和获取的主要方式，是查找信息的方法和手段。狭义的信息检索仅指信息查询（Information Search）。即用户根据需要，采用一定的方法，借助检索工具，从信息集合中找出所需要信息的查找过程。广义的信息检索是信息按一定的方式进行加工、整理、组织部存储起来，再根据信息用户特定的需要将相关信息准确的查找出来的过程。又称信息的存储于检索。一般情况下，信息检索指的就是广义的信息检索。  \n",
    "    信息检索有广义和狭义的之分。广义的信息检索全称为“信息存储与检索”，是指将信息按一定的方式组织和存储起来，并根据用户的需要找出有关信息的过程。狭义的信息检索为“信息存储与检索”的后半部分，通常称为“信息查找”或“信息搜索”，是指从信息集合中找出用户所需要的有关信息的过程。狭义的信息检索包括3个方面的含义：了解用户的信息需求、信息检索的技术或方法、满足信息用户的需求。  \n",
    "    由信息检索原理可知，信息的存储是实现信息检索的基础。这里要存储的信息不仅包括原始文档数据，还包括图片、视频和音频等，首先要将这些原始信息进行计算机语言的转换，并将其存储在数据库中，否则无法进行机器识别。待用户根据意图输入查询请求后，检索系统根据用户的查询请求在数据库中搜索与查询相关的信息，通过一定的匹配机制计算出信息的相似度大小，并按从大到小的顺序将信息转换输出。\n",
    "```\n",
    "(src: https://baike.baidu.com/item/%E4%BF%A1%E6%81%AF%E6%A3%80%E7%B4%A2/831904)"
   ]
  },
  {
   "cell_type": "markdown",
   "metadata": {},
   "source": [
    "- 结构化数据\n",
    "  - 如 Oracle、Lotus Notes 以及符合 ODBC 标准的内容，具有表、字段等结构化特性\n",
    "- 半结构化数据\n",
    "  - XML等，具有非统一的标记\n",
    "- 非结构化数据\n",
    "  - 通常指自由文本，以及诸如语音和视频的富媒体内容\n",
    "![Unstructured Information](images/unstructured_info.png)"
   ]
  },
  {
   "cell_type": "markdown",
   "metadata": {},
   "source": [
    "### 超文本  \n",
    "```\n",
    "    超文本（英语：Hypertext）是一种在电脑显示器或其他电子设备，用以显示文本及与文本相关的内容，其中的文字包含有可以链接到其他字段或者文档的超连结，允许从当前阅读位置直接切换到超连结所指向的文字。全球资讯网的架构便是以超文本的底层概念定义为基础。\n",
    "```\n",
    "（src: https://www.wikiwand.com/zh-hans/%E8%B6%85%E6%96%87%E6%9C%AC）\n",
    "![Hyper Text](images/hyper_text.png)"
   ]
  },
  {
   "cell_type": "markdown",
   "metadata": {},
   "source": [
    "### AI·机器学习·深度学习\n",
    "![AI vs. ML vs. DL](images/ai_ml_dl.png)"
   ]
  },
  {
   "cell_type": "markdown",
   "metadata": {},
   "source": [
    "### 网络搜索与AI/机器学习/深度学习的关系\n",
    "![AI vs. ML vs. DL vs. Web Search](images/ai_ml_dl_nlp.png)"
   ]
  },
  {
   "cell_type": "markdown",
   "metadata": {},
   "source": [
    "### 网络搜索分类\n",
    "- 检索（Retrieval）\n",
    "  - 针对特定(具体)需求查找符合的结果\n",
    "- 过滤（Filter）\n",
    "  - 根据预设条件进行信息的获取、隔离或封堵\n",
    "- 推荐（Recommendation）\n",
    "  - 根据潜在（非具体）需求查找可能符合要求的结果"
   ]
  },
  {
   "cell_type": "markdown",
   "metadata": {},
   "source": [
    "### “How Search Works”\n",
    "By Matt Cutts\n",
    "- Google资深的软件工程师；\n",
    "- Google的Webspam团队的老大；\n",
    "- Google的SafeSearch功能（过滤成人内容）就是Matt写的\n",
    "- Blog：http://www.mattcutts.com/blog/"
   ]
  },
  {
   "cell_type": "markdown",
   "metadata": {},
   "source": [
    "### 网络搜索引擎结构\n",
    "\n",
    "![Search Engine](images/search_engine.png)"
   ]
  },
  {
   "cell_type": "markdown",
   "metadata": {},
   "source": [
    "### 网络搜索关键技术\n",
    "- 数据采集（爬虫系统Crawler / 网络蜘蛛Spider）\n",
    "- 索引构建（Indexing）\n",
    "- 相关排序（Ranking）\n",
    "- 网络分析 (Network Analyzing)"
   ]
  },
  {
   "cell_type": "markdown",
   "metadata": {},
   "source": [
    "### 排序：选择的艺术\n",
    "![Ranking](images/ranking.png)"
   ]
  },
  {
   "cell_type": "markdown",
   "metadata": {},
   "source": [
    "### 开源搜索引擎框架\n",
    "![Open Sourced Search Engines](images/os_se.png)"
   ]
  },
  {
   "cell_type": "markdown",
   "metadata": {},
   "source": [
    "### Elasticsearch\n",
    "\n",
    "```\n",
    "    Elasticsearch是一个基于Apache Lucene(TM)的开源搜索引擎。无论在开源还是专有领域，Lucene可以被认为是迄今为止最先进、性能最好的、功能最全的搜索引擎库。  \n",
    "    但是，Lucene只是一个库。想要使用它，你必须使用Java来作为开发语言并将其直接集成到你的应用中，更糟糕的是，Lucene非常复杂，你需要深入了解检索的相关知识来理解它是如何工作的。  \n",
    "    Elasticsearch也使用Java开发并使用Lucene作为其核心来实现所有索引和搜索的功能，但是它的目的是通过简单的RESTful API来隐藏Lucene的复杂性，从而让全文搜索变得简单。  \n",
    "不过，Elasticsearch不仅仅是Lucene和全文搜索，我们还能这样去描述它：  \n",
    "- 分布式的实时文件存储，每个字段都被索引并可被搜索\n",
    "- 分布式的实时分析搜索引擎\n",
    "- 可以扩展到上百台服务器，处理PB级结构化或非结构化数据\n",
    "    而且，所有的这些功能被集成到一个服务里面，你的应用可以通过简单的RESTful API、各种语言的客户端甚至命令行与之交互。  \n",
    "    上手Elasticsearch非常容易。它提供了许多合理的缺省值，并对初学者隐藏了复杂的搜索引擎理论。它开箱即用（安装即可使用），只需很少的学习既可在生产环境中使用。  \n",
    "    Elasticsearch在Apache 2 license下许可使用，可以免费下载、使用和修改。  \n",
    "    随着你对Elasticsearch的理解加深，你可以根据不同的问题领域定制Elasticsearch的高级特性，这一切都是可配置的，并且配置非常灵活。  \n",
    "```\n",
    "（src: https://es.xiaoleilu.com/010_Intro/05_What_is_it.html）"
   ]
  },
  {
   "cell_type": "markdown",
   "metadata": {},
   "source": [
    "### 前沿技术跟踪来源\n",
    "- ACM SIGIR（Special Interest Group on Information Retrieval）\n",
    "- TREC（The Text REtrieval Conference）\n",
    "- ACM RecSys (Recommender System)"
   ]
  },
  {
   "cell_type": "markdown",
   "metadata": {},
   "source": [
    "### 学习建议\n",
    "- 浅尝览全貌，读书生结构，\n",
    "- 实践知关键，借鉴避浅滩，\n",
    "- 细节慢琢磨，勤奋始得道"
   ]
  },
  {
   "cell_type": "markdown",
   "metadata": {},
   "source": [
    "### 关于编程能力\n",
    "![Learning Python](images/learning_python.png)"
   ]
  },
  {
   "cell_type": "markdown",
   "metadata": {},
   "source": [
    "### 参考资料\n",
    "![Reference Books](images/books.png)"
   ]
  },
  {
   "cell_type": "markdown",
   "metadata": {},
   "source": [
    "#### 相关信息\n",
    "- 陈光 chenguang@bupt.edu.cn\n",
    "- 北邮模式识别与智能系统实验室(PRIS)\n",
    "- 微博: **@爱可可-爱生活**\n",
    "- 办公：教三-731 \n",
    "- 课程平台(课堂派) www.ketangpai.com  邀请码:**897SRR**"
   ]
  },
  {
   "cell_type": "markdown",
   "metadata": {},
   "source": [
    "### 本节实践目标：\n",
    "- 1、建立Python语言的第一印象\n",
    "- 2、简单实现网页采集和解析\n",
    "- 3、熟悉搜索框架(索引)ElasticSearch"
   ]
  },
  {
   "cell_type": "markdown",
   "metadata": {},
   "source": [
    "#### 环境配置：\n",
    "- Python开发环境(包括jupyter notebooks)：\n",
    "    - Python https://www.python.org/\n",
    "    - Anaconda https://www.anaconda.com/\n",
    "![Anaconda](images/anaconda.png)\n",
    "- ElasticSearch https://www.elastic.co/products/elasticsearch"
   ]
  },
  {
   "cell_type": "code",
   "execution_count": null,
   "metadata": {
    "scrolled": true
   },
   "outputs": [],
   "source": [
    "#用requests下载网页\n",
    "import requests\n",
    "\n",
    "r = requests.get('http://www.bupt.edu.cn')\n",
    "content = r.text\n",
    "print content"
   ]
  },
  {
   "cell_type": "code",
   "execution_count": null,
   "metadata": {},
   "outputs": [],
   "source": [
    "#用beautifulsoup解析网页DOM\n",
    "from bs4 import BeautifulSoup\n",
    "import jieba\n",
    "\n",
    "soup = BeautifulSoup(content, 'lxml')\n",
    "links = soup.find_all('a')\n",
    "# for link in links:\n",
    "#     if 'content.php' in str(link):\n",
    "#         print link\n",
    "section = soup.find('div', {'class': 'wrap_cont' })\n",
    "links = section.find_all('a')\n",
    "for link in links:\n",
    "    title = link.get('title')\n",
    "    link = link.get('href')\n",
    "    print title, link"
   ]
  },
  {
   "cell_type": "code",
   "execution_count": null,
   "metadata": {},
   "outputs": [],
   "source": [
    "#分词结果示例\n",
    "for link in links:\n",
    "    title = link.get('title')\n",
    "    link = link.get('href')\n",
    "    print title, link\n",
    "    seg_list = jieba.cut(title)\n",
    "    print(\"/ \".join(seg_list))\n",
    "    print(\"------\")"
   ]
  },
  {
   "cell_type": "code",
   "execution_count": null,
   "metadata": {},
   "outputs": [],
   "source": [
    "#分词歧义示例\n",
    "texts = [\n",
    "    \"发展中国家兔养殖业\",\n",
    "]"
   ]
  },
  {
   "cell_type": "code",
   "execution_count": null,
   "metadata": {},
   "outputs": [],
   "source": [
    "#用普通http请求获取ES基本信息\n",
    "res = requests.get('http://localhost:9200')\n",
    "print(res.content)"
   ]
  },
  {
   "cell_type": "code",
   "execution_count": null,
   "metadata": {},
   "outputs": [],
   "source": [
    "#用elasticsearch建立连接\n",
    "from elasticsearch import Elasticsearch\n",
    "es = Elasticsearch([{'host': 'localhost', 'port': 9200}])"
   ]
  },
  {
   "cell_type": "code",
   "execution_count": null,
   "metadata": {},
   "outputs": [],
   "source": [
    "#创建新索引\n",
    "es.indices.delete(index='bupt')\n",
    "body = {\n",
    "    \"settings\" : {\n",
    "        \"number_of_shards\" : 1,\n",
    "        \"number_of_replicas\" : 0\n",
    "\n",
    "    },\n",
    "    \"mappings\" : {\n",
    "        \"test\" : {\n",
    "            \"_all\" : { \"enabled\" : False },\n",
    "            \"properties\" : {\n",
    "                \"name\" : { \n",
    "                    \"type\" : \"string\", \n",
    "                    \"analyzer\" : \"jieba_index\", \n",
    "                    \"search_analyzer\" : \"jieba_search\" \n",
    "                }\n",
    "            }\n",
    "        }\n",
    "    }\n",
    "}\n",
    "es.indices.create(index='bupt', body=body)"
   ]
  },
  {
   "cell_type": "code",
   "execution_count": null,
   "metadata": {
    "scrolled": false
   },
   "outputs": [],
   "source": [
    "#索引文档\n",
    "i = 1\n",
    "for link in links:\n",
    "    title = link.get('title')\n",
    "    link = link.get('href')\n",
    "    print title\n",
    "    entry = {\n",
    "        'title': title,\n",
    "        'url': link,\n",
    "    }\n",
    "    es.index(index='bupt', doc_type='news', id=i, body=entry)\n",
    "    print(\"------\")\n",
    "    i += 1"
   ]
  },
  {
   "cell_type": "code",
   "execution_count": null,
   "metadata": {},
   "outputs": [],
   "source": [
    "#从索引中提取文档\n",
    "es.get(index='bupt', doc_type='news', id=5)"
   ]
  },
  {
   "cell_type": "code",
   "execution_count": null,
   "metadata": {},
   "outputs": [],
   "source": [
    "#基本文档检索\n",
    "result = es.search(index=\"bupt\", body={\"query\": {\"match\": {'title':'迎新'}}})\n",
    "for item in result['hits']['hits']:\n",
    "    print item['_source']['title'], item['_source']['url']"
   ]
  }
 ],
 "metadata": {
  "kernelspec": {
   "display_name": "Python 2",
   "language": "python",
   "name": "python2"
  },
  "language_info": {
   "codemirror_mode": {
    "name": "ipython",
    "version": 2
   },
   "file_extension": ".py",
   "mimetype": "text/x-python",
   "name": "python",
   "nbconvert_exporter": "python",
   "pygments_lexer": "ipython2",
   "version": "2.7.13"
  }
 },
 "nbformat": 4,
 "nbformat_minor": 2
}
